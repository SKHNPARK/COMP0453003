{
 "cells": [
  {
   "cell_type": "markdown",
   "id": "c7b8e451",
   "metadata": {},
   "source": [
    "# Week4 - Exercise (2020110973_박석현)"
   ]
  },
  {
   "attachments": {},
   "cell_type": "markdown",
   "id": "37b4867b",
   "metadata": {},
   "source": [
    "> 1. 튜플 데이터를 이용하면 임시변수를 사용하지 않고 두 변수의 값을 서로 교환(swap)할 수 있다. 이 교환 방법을 이용하여 다음과 같이 주어진 리스트에서 가장 큰 값 12를 제일 마지막으로 옮겨 놓는 프로그램을 작성해 보라.(제약조건: 리스트의 요소를 살펴보기 위해 사용하는 for 문의 인덱스 변수 i를 제외하고는, 주어진 리스트 이외에 다른 어떤 변수도 추가로 사용해서는 안 된다.)"
   ]
  },
  {
   "cell_type": "code",
   "execution_count": 1,
   "id": "199acfbe",
   "metadata": {},
   "outputs": [
    {
     "name": "stdout",
     "output_type": "stream",
     "text": [
      "[5, 6, 3, 9, 2, 12, 3, 8, 7]\n",
      "[5, 6, 3, 9, 2, 3, 8, 7, 12]\n"
     ]
    }
   ],
   "source": [
    "before = [5, 6, 3, 9, 2, 12, 3, 8, 7]\n",
    "after = before\n",
    "print(before)\n",
    "\n",
    "max_index = 0\n",
    "for i in range(1, len(before)):\n",
    "    if before[i] > before[max_index]:\n",
    "        max_index = i\n",
    "while max_index != len(before) - 1:\n",
    "    after[max_index], after[max_index + 1] = after[max_index + 1], after[max_index]\n",
    "    max_index += 1\n",
    "print(after)"
   ]
  },
  {
   "attachments": {},
   "cell_type": "markdown",
   "id": "f609e4b7",
   "metadata": {},
   "source": [
    "> 3. 어떤 문자열을 뒤집었을 때에 원래의 문자열과 같은 것을 회문(palindrome)이라고 한다. 예를 들어 ‘mom’은 문자열을 뒤집어도 ‘mom’이 되므로 회문이다. 사용자로부터 임의의 문자열이나 문장을 입력받아서 이 문자열이 회문인지 아닌지 검사하는 코드를 작성하라. 입력으로는 다음과 같은 영문자를 입력으로 받으며, 대문자와 소문자, 공백, 마침표 등은 무시하도록 구현하라."
   ]
  },
  {
   "cell_type": "code",
   "execution_count": 7,
   "id": "ecf69bc0",
   "metadata": {},
   "outputs": [
    {
     "name": "stdout",
     "output_type": "stream",
     "text": [
      "문자열 입력하시오 : racecar\n",
      "회문입니다.\n"
     ]
    }
   ],
   "source": [
    "strin = input('문자열 입력하시오 : ')\n",
    "check = 1\n",
    "for i in range(len(strin) // 2):\n",
    "    if strin[i] != strin[-1 - i]:\n",
    "        check = 0\n",
    "        break\n",
    "\n",
    "if check:\n",
    "    print(\"회문입니다.\")\n",
    "else:\n",
    "    print(\"회문이 아닙니다\")"
   ]
  },
  {
   "attachments": {},
   "cell_type": "markdown",
   "id": "d0d6db3b",
   "metadata": {},
   "source": [
    "> 6. 주어진 튜플은 10일 동안 일일 매장 매출을 기록한 것이다. 매출이 전날보다 감소한 날이 며칠인지 출력하는 코드를 작성하라."
   ]
  },
  {
   "cell_type": "code",
   "execution_count": 5,
   "id": "4968b186",
   "metadata": {},
   "outputs": [
    {
     "name": "stdout",
     "output_type": "stream",
     "text": [
      "일일 매출 기록: (100, 121, 120, 130, 140, 120, 122, 123, 190, 125)\n",
      "지난10일 동안 전일대비 매출이 감소한 날은 3일입니다.\n"
     ]
    }
   ],
   "source": [
    "tuple = (100, 121, 120, 130, 140, 120, 122, 123, 190, 125)\n",
    "cnt =0\n",
    "for i in range(len(tuple) - 1):\n",
    "    if tuple[i + 1] < tuple[i]:\n",
    "        cnt += 1\n",
    "print(f\"일일 매출 기록: {tuple}\")\n",
    "print(f\"지난{len(tuple)}일 동안 전일대비 매출이 감소한 날은 {cnt}일입니다.\")"
   ]
  },
  {
   "attachments": {},
   "cell_type": "markdown",
   "id": "ee92b84b",
   "metadata": {},
   "source": [
    "> 7. 중복 요소를 가진 튜플 tup에서 중복 요소가 하나만 나타나도록 수정한 튜플을 생성하라."
   ]
  },
  {
   "cell_type": "code",
   "execution_count": 3,
   "id": "a12f7ef0",
   "metadata": {},
   "outputs": [
    {
     "name": "stdout",
     "output_type": "stream",
     "text": [
      "주어진 튜플:  (1, 2, 5, 4, 3, 1, 1, 1, 3, 2, 1, 5, 7, 7)\n",
      "중복 제거 튜플:  (1, 2, 3, 4, 5, 7)\n"
     ]
    }
   ],
   "source": [
    "tuple1 = (1, 2, 5, 4, 3, 1, 1, 1, 3, 2, 1, 5, 7, 7)\n",
    "print(\"주어진 튜플: \", tuple1)\n",
    "print(\"중복 제거 튜플: \", tuple(set(tuple1)))"
   ]
  },
  {
   "attachments": {},
   "cell_type": "markdown",
   "id": "2e1dea21",
   "metadata": {},
   "source": [
    "> 8. 튜플을 요소로 가지는 student_tuple 튜플이 다음과 같이 있다. 이 튜플의 요소가 되는 튜플은 (학번, 이름, 전화번호)로 이루어져 있다. 이를 이용하여 (학번:이름)의 딕셔너리를 만들고 학번을 입력하면 학생의 이름이 나오도록 하라."
   ]
  },
  {
   "cell_type": "code",
   "execution_count": 6,
   "id": "f989dcf8",
   "metadata": {},
   "outputs": [
    {
     "name": "stdout",
     "output_type": "stream",
     "text": [
      "학생 정보 : {'191101': '홍길동', '191102': '임꺽정', '191103': '장길산'}\n",
      "학번을 입력하세요 :191102\n",
      "191102번 학생은 임꺽정입니다.\n",
      "학번을 입력하세요 :191106\n",
      "해당 학번의 학생이 없습니다.\n",
      "학번을 입력하세요 :-1\n",
      "프로그램을 종료합니다.\n"
     ]
    }
   ],
   "source": [
    "student_tuple = (('191101', '홍길동'), ('191102', '임꺽정'), ('191103', '장길산'))\n",
    "\n",
    "dictionary = dict(student_tuple)\n",
    "print(\"학생 정보 :\", dictionary)\n",
    "\n",
    "stdin = int(input(\"학번을 입력하세요 :\"))\n",
    "while (stdin != -1):\n",
    "    if str(stdin) in dictionary.keys():\n",
    "        print(f\"{stdin}번 학생은 {dictionary[str(stdin)]}입니다.\")\n",
    "    else:\n",
    "        print(\"해당 학번의 학생이 없습니다.\")\n",
    "    stdin = int(input(\"학번을 입력하세요 :\"))\n",
    "print(\"프로그램을 종료합니다.\")"
   ]
  }
 ],
 "metadata": {
  "kernelspec": {
   "display_name": "Python 3 (ipykernel)",
   "language": "python",
   "name": "python3"
  },
  "language_info": {
   "codemirror_mode": {
    "name": "ipython",
    "version": 3
   },
   "file_extension": ".py",
   "mimetype": "text/x-python",
   "name": "python",
   "nbconvert_exporter": "python",
   "pygments_lexer": "ipython3",
   "version": "3.10.7"
  }
 },
 "nbformat": 4,
 "nbformat_minor": 5
}
