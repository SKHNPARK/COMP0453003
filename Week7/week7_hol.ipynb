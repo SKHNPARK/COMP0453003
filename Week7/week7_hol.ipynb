{
 "cells": [
  {
   "cell_type": "markdown",
   "id": "b9c42493",
   "metadata": {},
   "source": [
    "# Week7 - HOL (2020101973_박석현)"
   ]
  },
  {
   "cell_type": "markdown",
   "id": "ab94ad74",
   "metadata": {},
   "source": [
    "### LAB 7-1 : 오늘의 날짜와 현재시간 출력하기"
   ]
  },
  {
   "cell_type": "markdown",
   "id": "3d160766",
   "metadata": {},
   "source": [
    "> 1. datetime 모듈을 사용하여 오늘의 날짜와 시간을 다음과 같이 출력하여라. 이때 hour 같이 10일 경우 오전 10시, 13이면 오후 1시와 같이 오전/오후 정보를 출력하여라."
   ]
  },
  {
   "cell_type": "code",
   "execution_count": 1,
   "id": "eaaeb070",
   "metadata": {},
   "outputs": [
    {
     "name": "stdout",
     "output_type": "stream",
     "text": [
      "오늘의 날짜 : 2022년 10월 13일\n",
      "현재시간 : 오후 2시 46분 36초\n"
     ]
    }
   ],
   "source": [
    "import datetime\n",
    "\n",
    "today = datetime.date.today()\n",
    "time = datetime.datetime.now()\n",
    "time_hour = time.hour\n",
    "\n",
    "if time_hour < 12:\n",
    "    ampm = \"오전\"\n",
    "else:\n",
    "    time_hour -= 12\n",
    "    ampm = \"오후\"\n",
    "print(f\"오늘의 날짜 : {today.year}년 {today.month}월 {today.day}일\")\n",
    "print(f\"현재시간 : {ampm} {time_hour}시 {time.minute}분 {time.second}초\")"
   ]
  },
  {
   "cell_type": "markdown",
   "id": "d74c3ab8",
   "metadata": {},
   "source": [
    "### LAB 7-2 : 남은 날짜 계산하기"
   ]
  },
  {
   "cell_type": "markdown",
   "id": "49e75993",
   "metadata": {},
   "source": [
    "> 1. 앞서 배운 남은 날짜 계산 프로그램을 수정하여 오늘 날짜와 함께 2025년 크리스마스까지의 남은 날짜와 시간을 구해서 출력해 보자."
   ]
  },
  {
   "cell_type": "code",
   "execution_count": 2,
   "id": "56255adf",
   "metadata": {},
   "outputs": [
    {
     "name": "stdout",
     "output_type": "stream",
     "text": [
      "오늘은 2022년 10월 13일입니다\n",
      "2025년 크리스마스 까지는 1168일 8시간 남았습니다\n"
     ]
    }
   ],
   "source": [
    "import datetime as dt\n",
    "today = dt.date.today()\n",
    "print(\"오늘은 {}년 {}월 {}일입니다\".format(today.year, today.month, today.day))\n",
    "xMas = dt.datetime(2025, 12, 25)\n",
    "time_gap = xMas - dt.datetime.now()\n",
    "print(\"2025년 크리스마스 까지는 {}일 {}시간 남았습니다\".format(time_gap.days, time_gap.seconds // 3600))"
   ]
  },
  {
   "cell_type": "markdown",
   "id": "70844f47",
   "metadata": {},
   "source": [
    "> 2. 앞서 배운 남은 날짜 계산 프로그램을 수정하여 2036년 1월 1일까지의 남은 날짜와 시간을 구해서 출력해 보자."
   ]
  },
  {
   "cell_type": "code",
   "execution_count": 6,
   "id": "2c7c9dc1",
   "metadata": {},
   "outputs": [
    {
     "name": "stdout",
     "output_type": "stream",
     "text": [
      "오늘은 2022년 10월 13일입니다\n",
      "2036년 새해 까지는 4827일 7시간 남았습니다\n"
     ]
    }
   ],
   "source": [
    "import datetime as dt\n",
    "today = dt.date.today()\n",
    "print(\"오늘은 {}년 {}월 {}일입니다\".format(today.year, today.month, today.day))\n",
    "nYear = dt.datetime(2036, 1, 1)\n",
    "time_gap = nYear - dt.datetime.now()\n",
    "print(\"2036년 새해 까지는 {}일 {}시간 남았습니다\".format(time_gap.days, time_gap.seconds // 3600))"
   ]
  },
  {
   "cell_type": "markdown",
   "id": "d6cf2423",
   "metadata": {},
   "source": [
    "> 3. 다가오는 자신의 생일까지 남은 날짜와 시간을 출력해 보자."
   ]
  },
  {
   "cell_type": "code",
   "execution_count": 7,
   "id": "e4b8314e",
   "metadata": {},
   "outputs": [
    {
     "name": "stdout",
     "output_type": "stream",
     "text": [
      "오늘은 2022년 10월 13일입니다\n",
      "다가오는 생일 까지는 103일 7시간 남았습니다\n"
     ]
    }
   ],
   "source": [
    "import datetime as dt\n",
    "today = dt.date.today()\n",
    "print(\"오늘은 {}년 {}월 {}일입니다\".format(today.year, today.month, today.day))\n",
    "bDay = dt.datetime(2023, 1, 25)\n",
    "time_gap = bDay - dt.datetime.now()\n",
    "print(\"다가오는 생일 까지는 {}일 {}시간 남았습니다\".format(time_gap.days, time_gap.seconds // 3600))"
   ]
  },
  {
   "cell_type": "markdown",
   "id": "a831596b",
   "metadata": {},
   "source": [
    "### LAB 7-3 : 날짜 계산하기"
   ]
  },
  {
   "cell_type": "markdown",
   "id": "af0f8402",
   "metadata": {},
   "source": [
    "> 1. timedelta 클래스를 사용하여 오늘 날짜로부터 1,000일 후의 날짜를 구하시오."
   ]
  },
  {
   "cell_type": "code",
   "execution_count": 11,
   "id": "cac06ce3",
   "metadata": {},
   "outputs": [
    {
     "name": "stdout",
     "output_type": "stream",
     "text": [
      "1000일 후의 날짜 : 2025년 7월 9일\n"
     ]
    }
   ],
   "source": [
    "import datetime as dt\n",
    "\n",
    "today = dt.datetime.today()\n",
    "k = today + dt.timedelta(days=1000)\n",
    "print(\"1000일 후의 날짜 : {}년 {}월 {}일\".format(k.year, k.month, k.day))"
   ]
  },
  {
   "cell_type": "markdown",
   "id": "d66804b0",
   "metadata": {},
   "source": [
    "> 2. timedelta 클래스를 이용하여 커플들을 위한 프로그램을 작성하자. 다음과 같이 처음으로 사귄 연도와 월, 일을 띄어쓰기로 입력하면 100일 기념일을 출력하는 기능이 있다. 프로그램의 이름은 couple_day.py라고 정하도록 하자."
   ]
  },
  {
   "cell_type": "code",
   "execution_count": 12,
   "id": "f5d18c9f",
   "metadata": {},
   "outputs": [
    {
     "name": "stdout",
     "output_type": "stream",
     "text": [
      "처음으로 사귄 연도와 월, 일을 입력하시오 : 2019 3 30\n",
      "100일 기념일은 : 2019년 7월 7일입니다.\n"
     ]
    }
   ],
   "source": [
    "import datetime as dt\n",
    "\n",
    "year, month, day = map(int, input(\"처음으로 사귄 연도와 월, 일을 입력하시오 : \").split())\n",
    "first_date = dt.datetime(year, month, day)\n",
    "hundred = first_date + dt.timedelta(days=100)\n",
    "print(\"100일 기념일은 : {}년 {}월 {}일입니다.\".format(hundred.year, hundred.month, hundred.day - 1))"
   ]
  },
  {
   "cell_type": "markdown",
   "id": "7d2313b6",
   "metadata": {},
   "source": [
    "### LAB 7-4 : math 모듈을 이용한 계산"
   ]
  },
  {
   "cell_type": "markdown",
   "id": "20e53c25",
   "metadata": {},
   "source": [
    "> 1. math 모듈과 for - in range()를 사용하여 4의 2승부터 10승까지를 화면에 출력하여라."
   ]
  },
  {
   "cell_type": "code",
   "execution_count": 3,
   "id": "04e3d31d",
   "metadata": {},
   "outputs": [
    {
     "name": "stdout",
     "output_type": "stream",
     "text": [
      "4** 2 =      16.0\n",
      "4** 3 =      64.0\n",
      "4** 4 =     256.0\n",
      "4** 5 =    1024.0\n",
      "4** 6 =    4096.0\n",
      "4** 7 =   16384.0\n",
      "4** 8 =   65536.0\n",
      "4** 9 =  262144.0\n",
      "4**10 = 1048576.0\n"
     ]
    }
   ],
   "source": [
    "import math\n",
    "\n",
    "for i in range(2, 11):\n",
    "    print(\"4**{:2d} = {:9.1f}\".format(i, math.pow(4, i)))"
   ]
  },
  {
   "cell_type": "markdown",
   "id": "7e53e255",
   "metadata": {},
   "source": [
    "> 2. 일반각도 0도에서 180도를 10도 단위로 출력하라. 이때 이 일반각도에 대응되는 라디안 각도 값을 함께 출력하라."
   ]
  },
  {
   "cell_type": "code",
   "execution_count": 4,
   "id": "13b108a6",
   "metadata": {},
   "outputs": [
    {
     "name": "stdout",
     "output_type": "stream",
     "text": [
      "  0 degree = 0.000 radian\n",
      " 10 degree = 0.175 radian\n",
      " 20 degree = 0.349 radian\n",
      " 30 degree = 0.524 radian\n",
      " 40 degree = 0.698 radian\n",
      " 50 degree = 0.873 radian\n",
      " 60 degree = 1.047 radian\n",
      " 70 degree = 1.222 radian\n",
      " 80 degree = 1.396 radian\n",
      " 90 degree = 1.571 radian\n",
      "100 degree = 1.745 radian\n",
      "110 degree = 1.920 radian\n",
      "120 degree = 2.094 radian\n",
      "130 degree = 2.269 radian\n",
      "140 degree = 2.443 radian\n",
      "150 degree = 2.618 radian\n",
      "160 degree = 2.793 radian\n",
      "170 degree = 2.967 radian\n",
      "180 degree = 3.142 radian\n"
     ]
    }
   ],
   "source": [
    "import math\n",
    "\n",
    "for i in range(0, 181,10):\n",
    "    print(\"{:3d} degree = {:.3f} radian\".format(i, math.radians(i)))"
   ]
  },
  {
   "cell_type": "markdown",
   "id": "4fb7fa2b",
   "metadata": {},
   "source": [
    "> 3. math 모듈과 for 문을 사용하여 일반각도 sin 0도에서 부터 180도까지의 값을 10도 간격으로 출력하여라."
   ]
  },
  {
   "cell_type": "code",
   "execution_count": 5,
   "id": "bfb4c512",
   "metadata": {},
   "outputs": [
    {
     "name": "stdout",
     "output_type": "stream",
     "text": [
      "  0 degree = 0.00 radian\n",
      " 10 degree = 0.17 radian\n",
      " 20 degree = 0.34 radian\n",
      " 30 degree = 0.50 radian\n",
      " 40 degree = 0.64 radian\n",
      " 50 degree = 0.77 radian\n",
      " 60 degree = 0.87 radian\n",
      " 70 degree = 0.94 radian\n",
      " 80 degree = 0.98 radian\n",
      " 90 degree = 1.00 radian\n",
      "100 degree = 0.98 radian\n",
      "110 degree = 0.94 radian\n",
      "120 degree = 0.87 radian\n",
      "130 degree = 0.77 radian\n",
      "140 degree = 0.64 radian\n",
      "150 degree = 0.50 radian\n",
      "160 degree = 0.34 radian\n",
      "170 degree = 0.17 radian\n",
      "180 degree = 0.00 radian\n"
     ]
    }
   ],
   "source": [
    "import math\n",
    "\n",
    "for i in range(0, 181,10):\n",
    "    print(\"{:3d} degree = {:.2f} radian\".format(i, math.sin(math.radians(i))))"
   ]
  },
  {
   "cell_type": "markdown",
   "id": "bd10adb0",
   "metadata": {},
   "source": [
    "### LAB 7-5 : 랜덤 번호 생성기"
   ]
  },
  {
   "cell_type": "markdown",
   "id": "608361ed",
   "metadata": {},
   "source": [
    "> 1.random 모듈의 randrange() 함수를 이용하여 0에서 100 이하의 정수 중에서 5의 배수 값을 임의로 3개 선택하여 리스트 형식으로 출력해 보시오."
   ]
  },
  {
   "cell_type": "code",
   "execution_count": 9,
   "id": "9a7a7bb6",
   "metadata": {},
   "outputs": [
    {
     "name": "stdout",
     "output_type": "stream",
     "text": [
      "0에서 100 이하의 정수 중에서 5의 배수\n",
      "[100, 75, 40]\n"
     ]
    }
   ],
   "source": [
    "import random as rd\n",
    "\n",
    "myList = []\n",
    "\n",
    "while len(myList) < 3:\n",
    "    randNum = rd.randrange(0, 101)\n",
    "    if randNum % 5 == 0 and randNum not in myList:\n",
    "        myList.append(randNum)\n",
    "print(\"0에서 100 이하의 정수 중에서 5의 배수\")\n",
    "print(myList)"
   ]
  },
  {
   "cell_type": "markdown",
   "id": "ce686595",
   "metadata": {},
   "source": [
    "> 2. 1에서 10 사이의 정수 중 임의의 정수 3개를 sample() 함수를 이용하여 출력하시오."
   ]
  },
  {
   "cell_type": "code",
   "execution_count": 10,
   "id": "3b839682",
   "metadata": {},
   "outputs": [
    {
     "name": "stdout",
     "output_type": "stream",
     "text": [
      "1에서 10 사이의 임의의 정수 : [3, 4, 9]\n"
     ]
    }
   ],
   "source": [
    "import random as rd\n",
    "\n",
    "myList = list(range(1, 11))\n",
    "print(\"1에서 10 사이의 임의의 정수 :\", rd.sample(myList, 3))"
   ]
  }
 ],
 "metadata": {
  "kernelspec": {
   "display_name": "Python 3 (ipykernel)",
   "language": "python",
   "name": "python3"
  },
  "language_info": {
   "codemirror_mode": {
    "name": "ipython",
    "version": 3
   },
   "file_extension": ".py",
   "mimetype": "text/x-python",
   "name": "python",
   "nbconvert_exporter": "python",
   "pygments_lexer": "ipython3",
   "version": "3.9.12"
  }
 },
 "nbformat": 4,
 "nbformat_minor": 5
}
