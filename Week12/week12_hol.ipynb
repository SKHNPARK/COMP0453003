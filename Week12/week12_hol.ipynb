{
 "cells": [
  {
   "cell_type": "markdown",
   "id": "729526ef",
   "metadata": {},
   "source": [
    "# Week12 - HOL (2020110973_박석현)"
   ]
  },
  {
   "cell_type": "markdown",
   "id": "a5189e17",
   "metadata": {},
   "source": [
    "### LAB 9-1 : 객체와 메소드 호출"
   ]
  },
  {
   "cell_type": "markdown",
   "id": "0a5475ae",
   "metadata": {},
   "source": [
    "> 1. 다음 메소드 호출의 결과는 무엇인가?"
   ]
  },
  {
   "cell_type": "code",
   "execution_count": 1,
   "id": "e311abc5",
   "metadata": {},
   "outputs": [
    {
     "name": "stdout",
     "output_type": "stream",
     "text": [
      "100\n",
      "20000\n",
      "2.0\n"
     ]
    }
   ],
   "source": [
    "print((200).__sub__(100))\n",
    "print((200).__mul__(100))\n",
    "print((200).__truediv__(100))"
   ]
  },
  {
   "cell_type": "markdown",
   "id": "3329290e",
   "metadata": {},
   "source": [
    "> 2. 다음 메소드 호출의 결과는 무엇인가?"
   ]
  },
  {
   "cell_type": "code",
   "execution_count": 2,
   "id": "bdcb7695",
   "metadata": {},
   "outputs": [
    {
     "name": "stdout",
     "output_type": "stream",
     "text": [
      "40\n"
     ]
    }
   ],
   "source": [
    "print([10, 20, 30, 40].pop())"
   ]
  },
  {
   "cell_type": "markdown",
   "id": "6722c9ee",
   "metadata": {},
   "source": [
    "> 3. 다음 중 리스트 객체가 호출할 수 없는 메소드는 무엇인가?"
   ]
  },
  {
   "cell_type": "markdown",
   "id": "6f441de6",
   "metadata": {},
   "source": [
    "1) pop()     2) keys()     3) removea()     5) get()"
   ]
  },
  {
   "cell_type": "markdown",
   "id": "5d6ddf6a",
   "metadata": {},
   "source": [
    "2) keys()"
   ]
  },
  {
   "cell_type": "markdown",
   "id": "6ca6c1b6",
   "metadata": {},
   "source": [
    "> 4. 다음과 같은 방법으로 int 클래스의 메소드와 속성을 조사하여라."
   ]
  },
  {
   "cell_type": "code",
   "execution_count": 3,
   "id": "f4b875aa",
   "metadata": {},
   "outputs": [
    {
     "name": "stdout",
     "output_type": "stream",
     "text": [
      "['__abs__', '__add__', '__and__', '__bool__', '__ceil__', '__class__', '__delattr__', '__dir__', '__divmod__', '__doc__', '__eq__', '__float__', '__floor__', '__floordiv__', '__format__', '__ge__', '__getattribute__', '__getnewargs__', '__gt__', '__hash__', '__index__', '__init__', '__init_subclass__', '__int__', '__invert__', '__le__', '__lshift__', '__lt__', '__mod__', '__mul__', '__ne__', '__neg__', '__new__', '__or__', '__pos__', '__pow__', '__radd__', '__rand__', '__rdivmod__', '__reduce__', '__reduce_ex__', '__repr__', '__rfloordiv__', '__rlshift__', '__rmod__', '__rmul__', '__ror__', '__round__', '__rpow__', '__rrshift__', '__rshift__', '__rsub__', '__rtruediv__', '__rxor__', '__setattr__', '__sizeof__', '__str__', '__sub__', '__subclasshook__', '__truediv__', '__trunc__', '__xor__', 'as_integer_ratio', 'bit_length', 'conjugate', 'denominator', 'from_bytes', 'imag', 'numerator', 'real', 'to_bytes']\n"
     ]
    }
   ],
   "source": [
    "print(dir(int))"
   ]
  },
  {
   "cell_type": "markdown",
   "id": "9eaf8dd3",
   "metadata": {},
   "source": [
    "> 5. 다음과 같은 방법으로 list 클래스의 메소드와 속성을 조사하여라."
   ]
  },
  {
   "cell_type": "code",
   "execution_count": 4,
   "id": "3855230f",
   "metadata": {},
   "outputs": [
    {
     "name": "stdout",
     "output_type": "stream",
     "text": [
      "['__add__', '__class__', '__class_getitem__', '__contains__', '__delattr__', '__delitem__', '__dir__', '__doc__', '__eq__', '__format__', '__ge__', '__getattribute__', '__getitem__', '__gt__', '__hash__', '__iadd__', '__imul__', '__init__', '__init_subclass__', '__iter__', '__le__', '__len__', '__lt__', '__mul__', '__ne__', '__new__', '__reduce__', '__reduce_ex__', '__repr__', '__reversed__', '__rmul__', '__setattr__', '__setitem__', '__sizeof__', '__str__', '__subclasshook__', 'append', 'clear', 'copy', 'count', 'extend', 'index', 'insert', 'pop', 'remove', 'reverse', 'sort']\n"
     ]
    }
   ],
   "source": [
    "print(dir(list))"
   ]
  },
  {
   "cell_type": "markdown",
   "id": "4f35788e",
   "metadata": {},
   "source": [
    "### LAB 9-2 : 용어 정리"
   ]
  },
  {
   "cell_type": "markdown",
   "id": "ff816022",
   "metadata": {},
   "source": [
    "> 1. 다음 용어를 정의하여라."
   ]
  },
  {
   "cell_type": "markdown",
   "id": "4abcb91e",
   "metadata": {},
   "source": [
    "a) 객체 지향 프로그래밍:   \n",
    "> - 프로그램을 짤 때, 프로그램을 실제 세상에 가깝게 모델링 하는 기법   \n",
    "> - 클래스나 객체"
   ]
  },
  {
   "cell_type": "markdown",
   "id": "8fa708d2",
   "metadata": {},
   "source": [
    "b) 절차적 프로그래밍:   \n",
    "> - 함수나 모듈을 만들어두고 이것들을 문제해결 순서에 맞게 호출하여 수행   \n",
    "> - 그래픽 사용자 인터페이스 시스템과 같이 다양한 그래픽 요소들이 있을 경우 효과적으로 문제해결을 하기 어렵다."
   ]
  },
  {
   "cell_type": "markdown",
   "id": "d6cd6dba",
   "metadata": {},
   "source": [
    "c) 그래픽 사용자 인터페이스   \n",
    "> - 사용자가 편리하게 사용할 수 있도록 입출력 등의 기능을 알기 쉬운 아이콘 따위의 그래픽으로 나타낸 것"
   ]
  },
  {
   "cell_type": "markdown",
   "id": "9f4cc902",
   "metadata": {},
   "source": [
    "> 2. 객체 지향 프로그래밍 기법과 절차적 프로그래밍 기법의 차이점을 기술하여라. \n",
    "\n",
    ">   객체 지향 프로그래밍:   \n",
    "> - 잘 설계된 클래스를 이용하여 객체를 생성\n",
    "> - 클래스는 속성과 행위를 가지도록 설계하고 이 클래스를 이용하여 실제로 상호작용       하는 객체를 만들어서 프로그램 적용시키는 방법을 사용   \n",
    "\n",
    ">   절차적 프로그래밍:\n",
    "> - 데이터들이 많아지고 함수가 많아진다면 매우 많은 화살표와 함수 호출이 필요   \n",
    "> - 대규모 프로젝트에서는 큰 어려움"
   ]
  },
  {
   "cell_type": "markdown",
   "id": "8ed9a024",
   "metadata": {},
   "source": [
    "### LAB 9-3 : 용어 정리"
   ]
  },
  {
   "cell_type": "markdown",
   "id": "1173edb5",
   "metadata": {},
   "source": [
    "> 1. 다음 용어를 정의하여라."
   ]
  },
  {
   "cell_type": "markdown",
   "id": "3e4037ad",
   "metadata": {},
   "source": [
    "a) 클래스:   \n",
    "- 객체를 만들어 내기 위한 설계도   \n",
    "\n",
    "b) 객체:   \n",
    "- 클래스로 구현된 모든 대상   \n",
    "\n",
    "c) 인스턴스;   \n",
    "- 객체 중에서 설계도를 바탕으로 소프트웨어 세계에 구현된 구체적인 실체   \n",
    "\n",
    "d) 클래스의 속성   \n",
    "- name, colr와 같이 나타내는 것   \n",
    "\n",
    "e) 클래스이 행위   \n",
    "- meow(), run(), walk()와 같이 속성이 하는 것"
   ]
  },
  {
   "cell_type": "markdown",
   "id": "03483a2e",
   "metadata": {},
   "source": [
    "### LAB 9-4 : Dog 클래스와 인스턴스 생성"
   ]
  },
  {
   "cell_type": "markdown",
   "id": "84d46031",
   "metadata": {},
   "source": [
    " > 1. 다음 기능을 가진 Dog 클래스와 객체를 생성해라.   \n",
    "a) def bar(self): 라는 메소드를 가진다. 이 메소드를 통해 짓는 소리를 출력한다.   \n",
    "b) my_dog = Dog() 라는 명령어로 Dog 인스턴스를 생성하고 my_dog로 참조한다.   \n",
    "c) my_dog.bark() 라는 메소드로 개짓는 소리를 다음과 같이 출력한다. \"멍멍~~\""
   ]
  },
  {
   "cell_type": "code",
   "execution_count": 6,
   "id": "8f42f9c9",
   "metadata": {},
   "outputs": [
    {
     "name": "stdout",
     "output_type": "stream",
     "text": [
      "멍멍~~\n"
     ]
    }
   ],
   "source": [
    "class Dog:\n",
    "    def bark(self):\n",
    "        print(\"멍멍~~\")\n",
    "\n",
    "my_dog = Dog()\n",
    "my_dog.bark()"
   ]
  },
  {
   "cell_type": "markdown",
   "id": "aec508bf",
   "metadata": {},
   "source": [
    "### LAB 9-5 : Dog 클래스와 인스턴스 생성"
   ]
  },
  {
   "cell_type": "markdown",
   "id": "83b12dbc",
   "metadata": {},
   "source": [
    "> 1. 다음 기능을 가진 Dog 클래스를 생성하고 인스턴스와 메소드를 호출하여라.   \n",
    "a) name 이라는 속성을 가진다.   \n",
    "b) def __init__(self, name): 이라는 초기화 메소드를 가진다. 이 메소드를 통해서 이름을 초기화 한다.   \n",
    "c) def bark(self): 라는 메소드를 가진다. 이 메소드를 통해 짓는 소리를 출력한다.   \n",
    "d) my_dog = Dog('Jindo') 라는 명령어로 my_dog 인스턴스를 생성한다.   \n",
    "e) my_dog.bark() 라는 메소드로 개짓는 소리를 다음과 같이 출력한다. \"멍멍~~\""
   ]
  },
  {
   "cell_type": "code",
   "execution_count": 7,
   "id": "914f0865",
   "metadata": {},
   "outputs": [
    {
     "name": "stdout",
     "output_type": "stream",
     "text": [
      "멍멍~~\n"
     ]
    }
   ],
   "source": [
    "class Dog():\n",
    "    def __init__(self, name):\n",
    "        self.name = name\n",
    "    def bark(self):\n",
    "        print(\"멍멍~~\")\n",
    "\n",
    "my_dog = Dog('Jindo')\n",
    "my_dog.bark()"
   ]
  },
  {
   "cell_type": "markdown",
   "id": "0515493b",
   "metadata": {},
   "source": [
    "### LAB 9-6 : Dog 클래스와 문자열화 메소드"
   ]
  },
  {
   "cell_type": "markdown",
   "id": "efb66a6a",
   "metadata": {},
   "source": [
    "> 1. 다음 기능을 가진 Dog 클래스를 생성하고 인스턴스와 메소드를 호출하여라.   \n",
    "a) name 이라는 속성을 가진다.   \n",
    "b) def __init__(self, name): 이라는 초기화 메소드를 가진다. 이 메소드를 통해서 이름을 초기화 한다.   \n",
    "c) my_dog = Dog('Jindo') 라는 명령어로 my_dog 인스턴스를 생성한다.   \n",
    "d) Dog 클래스의 __str__() 메소드를 정의하여 print('my_dog의 정보 :', mydog)와 같은 명령문에 대해 다음과 같은 출력이 나타나도록 하여라.   \n",
    "my_dog의 정보 : Dog(name = Jindo)"
   ]
  },
  {
   "cell_type": "code",
   "execution_count": 8,
   "id": "b18d72e8",
   "metadata": {},
   "outputs": [
    {
     "name": "stdout",
     "output_type": "stream",
     "text": [
      "my_dog의 정보 : Dog(name=Jindo)\n"
     ]
    }
   ],
   "source": [
    "class Dog():\n",
    "    def __init__(self, name):\n",
    "        self.name = name\n",
    "    def __str__(self):\n",
    "        return (f\"my_dog의 정보 : Dog(name={self.name})\")\n",
    "\n",
    "my_dog = Dog('Jindo')\n",
    "print(my_dog.__str__())"
   ]
  },
  {
   "cell_type": "markdown",
   "id": "b78df842",
   "metadata": {},
   "source": [
    "### LAB 9-7 : 정수 객체의 is 연산"
   ]
  },
  {
   "cell_type": "markdown",
   "id": "7a9c28cb",
   "metadata": {},
   "source": [
    "> 1. 다음 코드의 수행 결과는 무엇인가? 결과를 적고 그 이유를 설명하여라."
   ]
  },
  {
   "cell_type": "code",
   "execution_count": 9,
   "id": "8f303e71",
   "metadata": {},
   "outputs": [
    {
     "name": "stdout",
     "output_type": "stream",
     "text": [
      "n is m\n"
     ]
    }
   ],
   "source": [
    "n = 100\n",
    "m = 100\n",
    "\n",
    "if n is m:\n",
    "    print('n is m')\n",
    "else:\n",
    "    print('n is not m')"
   ]
  },
  {
   "cell_type": "markdown",
   "id": "7b6779c4",
   "metadata": {},
   "source": [
    "정수는 메모리를 절약하기 위해서 같은 저장 위치를 참조한다."
   ]
  },
  {
   "cell_type": "markdown",
   "id": "25832f71",
   "metadata": {},
   "source": [
    "### LAB 9-8 : 특수 메소드의 응용"
   ]
  },
  {
   "cell_type": "markdown",
   "id": "5069a20f",
   "metadata": {},
   "source": [
    "> 1. 앞서 배운 __mul__()과 __truediv__() 메소드를 이용하여 두 벡터의 곱셈과 나눗셈 기능을 구현하여라. v1이 (30, 40)이고 v2가 (10, 20)이라고 가정하고 다음과 같은 결과가 나타나도록 출력문을 작성하여라."
   ]
  },
  {
   "cell_type": "code",
   "execution_count": 10,
   "id": "11d10376",
   "metadata": {},
   "outputs": [
    {
     "name": "stdout",
     "output_type": "stream",
     "text": [
      "v1 * v2 = (300, 800)\n",
      "v1 / v2 = (3.0, 2.0)\n"
     ]
    }
   ],
   "source": [
    "class Vector2D:\n",
    "    def __init__(self, x, y):\n",
    "        self.x = x\n",
    "        self.y = y\n",
    "    def __str__(self):\n",
    "        return \"({}, {})\".format(self.x, self.y)\n",
    "    def __mul__(self, other):\n",
    "        return Vector2D(self.x * other.x, self.y * other.y)\n",
    "    def __truediv__(self, other):\n",
    "        return Vector2D(self.x / other.x, self.y / other.y)\n",
    "v1 = Vector2D(30, 40)\n",
    "v2 = Vector2D(10, 20)\n",
    "v3_mul = v1 * v2\n",
    "v3_div = v1 / v2\n",
    "print(\"v1 * v2 =\", v3_mul)\n",
    "print(\"v1 / v2 =\", v3_div)"
   ]
  },
  {
   "cell_type": "markdown",
   "id": "16a998a2",
   "metadata": {},
   "source": [
    "> 2. 앞서 배운 __neg__() 메소드 이용하여 벡터의 음의 벡터를 구하시오. v1이 (10, 20)일 경우 출력 값은 다음과 같다."
   ]
  },
  {
   "cell_type": "code",
   "execution_count": 11,
   "id": "9bc6c782",
   "metadata": {},
   "outputs": [
    {
     "name": "stdout",
     "output_type": "stream",
     "text": [
      "-v1 = (-10, -20)\n"
     ]
    }
   ],
   "source": [
    "class Vector2D:\n",
    "    def __init__(self, x, y):\n",
    "        self.x = x\n",
    "        self.y = y\n",
    "    def __str__(self):\n",
    "        return \"({}, {})\".format(self.x, self.y)\n",
    "    def __neg__(self):\n",
    "        return Vector2D(-self.x, -self.y)\n",
    "\n",
    "v1 = Vector2D(10, 20)\n",
    "v1_neg = v1.__neg__()\n",
    "print(\"-v1 =\", v1_neg)\n"
   ]
  },
  {
   "cell_type": "markdown",
   "id": "0d3cddbd",
   "metadata": {},
   "source": [
    "### LAB 9-9 : 벡터의 크기 비교하기"
   ]
  },
  {
   "cell_type": "markdown",
   "id": "d0303d00",
   "metadata": {},
   "source": [
    "> 1. 앞서 배운 비교 연산자에 해당하는 특수 메소드를 이용하여 두 벡터의 크기를 비교하는 프로그램을 작성하시오. v1이 (30, 40)이고 v2가 (10, 20)이라고 가정하면 다음과 같은 결과가 나타나도록 출력문을 작성하여라."
   ]
  },
  {
   "cell_type": "code",
   "execution_count": 12,
   "id": "97c13fc1",
   "metadata": {},
   "outputs": [
    {
     "name": "stdout",
     "output_type": "stream",
     "text": [
      "v1 > v2 True\n",
      "v1 >= v2 True\n",
      "v1 < v2 False\n",
      "v1 <= v2 False\n"
     ]
    }
   ],
   "source": [
    "class Vector2D:\n",
    "    def __init__(self, x, y):\n",
    "        self.x = x\n",
    "        self.y = y\n",
    "    def __lt__(self, other):\n",
    "        return self.x < other.y and self.y < other.y\n",
    "    def __le__(self, other):\n",
    "        return self.x <= other.y and self.y <= other.y\n",
    "    def __ge__(self, other):\n",
    "        return self.x >= other.y and self.y >= other.y\n",
    "    def __gt__(self, other):\n",
    "        return self.x > other.y and self.y > other.y\n",
    "v1 = Vector2D(30, 40)\n",
    "v2 = Vector2D(10, 20)\n",
    "v3_lt =v1 < v2\n",
    "v3_le =v1 <= v2\n",
    "v3_ge =v1 >= v2\n",
    "v3_gt =v1 > v2\n",
    "\n",
    "print(\"v1 > v2\", v3_gt)\n",
    "print(\"v1 >= v2\", v3_ge)\n",
    "print(\"v1 < v2\", v3_lt)\n",
    "print(\"v1 <= v2\", v3_le)"
   ]
  },
  {
   "cell_type": "markdown",
   "id": "350938bc",
   "metadata": {},
   "source": [
    "### LAB 9-10 : __dict__를 이용한 인스턴스변수의 조회"
   ]
  },
  {
   "cell_type": "markdown",
   "id": "c50f962f",
   "metadata": {},
   "source": [
    "> 1. 다음과 같은 코드의 수행 결과는 무엇인가?"
   ]
  },
  {
   "cell_type": "code",
   "execution_count": 13,
   "id": "eb725161",
   "metadata": {},
   "outputs": [
    {
     "name": "stdout",
     "output_type": "stream",
     "text": [
      "{'width': 100, 'height': 200}\n",
      "100\n"
     ]
    }
   ],
   "source": [
    "class Rect:\n",
    "    def __init__(self, width, height):\n",
    "        self.width = width\n",
    "        self.height = height\n",
    "\n",
    "r1 = Rect(100, 200)\n",
    "print(r1.__dict__)\n",
    "print(r1.__dict__['width'])"
   ]
  },
  {
   "cell_type": "markdown",
   "id": "e6cb3c3d",
   "metadata": {},
   "source": [
    "> 2. 다음과 같은 코드의 수행 결과는 무엇인가?"
   ]
  },
  {
   "cell_type": "code",
   "execution_count": 14,
   "id": "ac9a1ff0",
   "metadata": {},
   "outputs": [
    {
     "name": "stdout",
     "output_type": "stream",
     "text": [
      "{'_Rect__width': 100, '_Rect__height': 200}\n",
      "100\n"
     ]
    }
   ],
   "source": [
    "class Rect:\n",
    "    def __init__(self, width, height):\n",
    "        self.__width = width\n",
    "        self.__height = height\n",
    "\n",
    "r1 = Rect(100, 200)\n",
    "print(r1.__dict__)\n",
    "print(r1.__dict__['_Rect__width'])"
   ]
  }
 ],
 "metadata": {
  "kernelspec": {
   "display_name": "Python 3 (ipykernel)",
   "language": "python",
   "name": "python3"
  },
  "language_info": {
   "codemirror_mode": {
    "name": "ipython",
    "version": 3
   },
   "file_extension": ".py",
   "mimetype": "text/x-python",
   "name": "python",
   "nbconvert_exporter": "python",
   "pygments_lexer": "ipython3",
   "version": "3.9.12"
  }
 },
 "nbformat": 4,
 "nbformat_minor": 5
}
