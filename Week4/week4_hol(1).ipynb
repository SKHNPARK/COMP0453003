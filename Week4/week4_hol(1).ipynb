{
 "cells": [
  {
   "cell_type": "markdown",
   "id": "c5386ba1",
   "metadata": {},
   "source": [
    "# Week4 - HOL (2020110973_박석현)"
   ]
  },
  {
   "cell_type": "markdown",
   "id": "0ca1c7a6",
   "metadata": {},
   "source": [
    "### LAB 5-1 : 리스트의 생성"
   ]
  },
  {
   "cell_type": "markdown",
   "id": "fed8c6ed",
   "metadata": {},
   "source": [
    "> 1. 1부터 10까지의 숫자 중에서 짝수를 요소로 가지는 even_list라는 리스트를 생성하여라(10을 포함).   print() 함수를 사용하여 이 리스트를 다음과 같이 출력하여라."
   ]
  },
  {
   "cell_type": "code",
   "execution_count": 4,
   "id": "4a43fc54",
   "metadata": {},
   "outputs": [
    {
     "name": "stdout",
     "output_type": "stream",
     "text": [
      "[2, 4, 6, 8, 10]\n"
     ]
    }
   ],
   "source": [
    "even_list = list((2, 4, 6, 8, 10))\n",
    "print(even_list)"
   ]
  },
  {
   "cell_type": "markdown",
   "id": "af958fdf",
   "metadata": {},
   "source": [
    "> 2. range() 함수를 이용하여 1번의 문제를 다시 풀어보시오."
   ]
  },
  {
   "cell_type": "code",
   "execution_count": 5,
   "id": "47be7121",
   "metadata": {},
   "outputs": [
    {
     "name": "stdout",
     "output_type": "stream",
     "text": [
      "[2, 4, 6, 8, 10]\n"
     ]
    }
   ],
   "source": [
    "even_list = list(range(2, 11, 2))\n",
    "print(even_list)"
   ]
  },
  {
   "cell_type": "markdown",
   "id": "ffcfcb3a",
   "metadata": {},
   "source": [
    "> 3. 'Korea', 'China', 'India', 'Nepal' 의 네 원소를 가지는 nations라는 리스트를 생성하여라. print() 함수를 사용하여 이 리스트를 다음과 같이 출력하여라."
   ]
  },
  {
   "cell_type": "code",
   "execution_count": 6,
   "id": "af0068bd",
   "metadata": {},
   "outputs": [
    {
     "name": "stdout",
     "output_type": "stream",
     "text": [
      "['Korea', 'China', 'India', 'Nepal']\n"
     ]
    }
   ],
   "source": [
    "nations = list(('Korea', 'China', 'India', 'Nepal'))\n",
    "print(nations)"
   ]
  },
  {
   "cell_type": "markdown",
   "id": "529c747b",
   "metadata": {},
   "source": [
    "> 4 여러분의 친한  친구 5명의 이름을 원소로 가지는 friends라는 리스트를 생성하여라. 그리고 다음과 같이 출력하여라"
   ]
  },
  {
   "cell_type": "code",
   "execution_count": 7,
   "id": "6c85c5c7",
   "metadata": {},
   "outputs": [
    {
     "name": "stdout",
     "output_type": "stream",
     "text": [
      "['길동', '철수', '은지', '지은', '영민']\n"
     ]
    }
   ],
   "source": [
    "friends = ['길동', '철수', '은지', '지은', '영민']\n",
    "print(friends)"
   ]
  },
  {
   "cell_type": "markdown",
   "id": "05a2d080",
   "metadata": {},
   "source": [
    "> 5. 'XYZ' 문자열을 이용하여 'X', 'Y', 'Z'라는 요소를 가지는 string이라는 이름의 리스트 생성하고 다음과 같이 출력하여라."
   ]
  },
  {
   "cell_type": "code",
   "execution_count": 8,
   "id": "3069f72a",
   "metadata": {},
   "outputs": [
    {
     "name": "stdout",
     "output_type": "stream",
     "text": [
      "['X', 'Y', 'Z']\n"
     ]
    }
   ],
   "source": [
    "string = list('XYZ')\n",
    "print(string)"
   ]
  },
  {
   "cell_type": "markdown",
   "id": "b66580c8",
   "metadata": {},
   "source": [
    "### LAB 5-2 : 리스트의 생성과 인덱싱"
   ]
  },
  {
   "cell_type": "markdown",
   "id": "6b073f35",
   "metadata": {},
   "source": [
    "1. 2부터 10까지의 수 중에서 소수를 원소로 가지는 prime_list라는 리스트를 생성하여라. 그리고 이 리스트의 가장 첫 원소를 리스트 인덱싱을 이용하여 다음과 같이 출력하여라,"
   ]
  },
  {
   "cell_type": "code",
   "execution_count": 9,
   "id": "325cd313",
   "metadata": {},
   "outputs": [
    {
     "name": "stdout",
     "output_type": "stream",
     "text": [
      "2\n"
     ]
    }
   ],
   "source": [
    "prime_list = [2, 3, 5, 7]\n",
    "print(prime_list[0])"
   ]
  },
  {
   "cell_type": "markdown",
   "id": "4a5d1b12",
   "metadata": {},
   "source": [
    "> 2. 문제 1.의 prime_list의 가장 마지막 원소를 양수 인덱스를 사용하여 출력하여라."
   ]
  },
  {
   "cell_type": "code",
   "execution_count": 10,
   "id": "566af3d2",
   "metadata": {},
   "outputs": [
    {
     "name": "stdout",
     "output_type": "stream",
     "text": [
      "7\n"
     ]
    }
   ],
   "source": [
    "prime_list = [2, 3, 5, 7]\n",
    "print(prime_list[3])"
   ]
  },
  {
   "cell_type": "markdown",
   "id": "81d75d3b",
   "metadata": {},
   "source": [
    "> 3. 문제 1.의 prime_list의 가장 마지막 원소를 음수 인덱스를 사용하여 출력하여라."
   ]
  },
  {
   "cell_type": "code",
   "execution_count": 12,
   "id": "98189124",
   "metadata": {},
   "outputs": [
    {
     "name": "stdout",
     "output_type": "stream",
     "text": [
      "7\n"
     ]
    }
   ],
   "source": [
    "prime_list = [2, 3, 5, 7]\n",
    "print(prime_list[-1])"
   ]
  },
  {
   "cell_type": "markdown",
   "id": "fc571aaa",
   "metadata": {},
   "source": [
    "> 4. 'Korea', 'China', 'India', 'Malaysia' 의 네 원소를 가지는 nations라는 리스트를 생성하여라. 그리고 이 리스트의 가장 첫 원소를 print() 이용하여 출력하여라."
   ]
  },
  {
   "cell_type": "code",
   "execution_count": 1,
   "id": "38892e4c",
   "metadata": {},
   "outputs": [
    {
     "name": "stdout",
     "output_type": "stream",
     "text": [
      "nations의 첫 원소 :  Korea\n"
     ]
    }
   ],
   "source": [
    "nations = list(('Korea', 'China', 'India', 'Malaysia'))\n",
    "print(\"nations의 첫 원소 : \", nations[0])"
   ]
  },
  {
   "cell_type": "markdown",
   "id": "8f5bab18",
   "metadata": {},
   "source": [
    "> 5. 4번에서 생성한 nations 리스트의 가장 마지막 원소를 음수 인덱스를 사용하여 출력하여라."
   ]
  },
  {
   "cell_type": "code",
   "execution_count": 3,
   "id": "30ca9444",
   "metadata": {},
   "outputs": [
    {
     "name": "stdout",
     "output_type": "stream",
     "text": [
      "nations의 마지막 원소 :  Malaysia\n"
     ]
    }
   ],
   "source": [
    "nations = list(('Korea', 'China', 'India', 'Malaysia'))\n",
    "print(\"nations의 마지막 원소 : \", nations[-1])"
   ]
  },
  {
   "cell_type": "markdown",
   "id": "0d12db04",
   "metadata": {},
   "source": [
    "### LAB 5-3 : 리스트의 삽입과 삭제, in 연산자"
   ]
  },
  {
   "cell_type": "markdown",
   "id": "28e9c2ab",
   "metadata": {},
   "source": [
    "> 1. 1부터 10까지의 수들 중에서 소수 원소를 가지는 prime_list라는 리스트를 생성하시오. 그리고 append() 메소드를 사용하여 11을 추가하시오. 이 때 추가 전과 추가 후의 결과를 다음과 같이 출력하시오."
   ]
  },
  {
   "cell_type": "code",
   "execution_count": 5,
   "id": "048a21bc",
   "metadata": {},
   "outputs": [
    {
     "name": "stdout",
     "output_type": "stream",
     "text": [
      "소수목록 : [2, 3, 5, 7]\n",
      "추가 후 소수 목록 : [2, 3, 5, 7, 11]\n"
     ]
    }
   ],
   "source": [
    "prime_list = [2, 3, 5, 7]\n",
    "print(f\"소수목록 : {prime_list}\")\n",
    "\n",
    "prime_list.append(11)\n",
    "print(f\"추가 후 소수 목록 : {prime_list}\")"
   ]
  },
  {
   "cell_type": "markdown",
   "id": "e6f439ab",
   "metadata": {},
   "source": [
    "> 2. 1번 문제의 prime_list라는 리스트에 있는 3이라는 원소를 remove() 메소드를 사용하여 제거하시오. 이 때 삭제 전과 삭제 후의 결과를 다음과 같이 출력하시오."
   ]
  },
  {
   "cell_type": "code",
   "execution_count": 6,
   "id": "bf2b2a85",
   "metadata": {},
   "outputs": [
    {
     "name": "stdout",
     "output_type": "stream",
     "text": [
      "삭제 전 소수목록 : [2, 3, 5, 7, 11]\n",
      "삭제 후 소수 목록 : [2, 5, 7, 11]\n"
     ]
    }
   ],
   "source": [
    "prime_list = [2, 3, 5, 7, 11]\n",
    "print(f\"삭제 전 소수목록 : {prime_list}\")\n",
    "\n",
    "prime_list.remove(3)\n",
    "print(f\"삭제 후 소수 목록 : {prime_list}\")"
   ]
  },
  {
   "cell_type": "markdown",
   "id": "5d40cfc0",
   "metadata": {},
   "source": [
    "> 3. 'Korea', 'China', 'Russia', 'Malaysia' 라는 국가이름을 원소로 가지는 nations라는 리스트에 append() 메소드를 사용하여 'Neptal'을 추가하시오. 이 때 추가 전과 추가 후의 결과를 다음과 같이 출력하시오."
   ]
  },
  {
   "cell_type": "code",
   "execution_count": 7,
   "id": "56bd0e59",
   "metadata": {},
   "outputs": [
    {
     "name": "stdout",
     "output_type": "stream",
     "text": [
      "국가 목록 : ['Korea', 'China', 'Russia', 'Malyasia']\n",
      "추가 후 국가 목록 : ['Korea', 'China', 'Russia', 'Malyasia', 'Nepal']\n"
     ]
    }
   ],
   "source": [
    "nations = ['Korea', 'China', 'Russia', 'Malyasia']\n",
    "print(f\"국가 목록 : {nations}\")\n",
    "\n",
    "nations.append(\"Nepal\")\n",
    "print(f\"추가 후 국가 목록 : {nations}\")"
   ]
  },
  {
   "cell_type": "code",
   "execution_count": 9,
   "id": "eb35a096",
   "metadata": {},
   "outputs": [
    {
     "name": "stdout",
     "output_type": "stream",
     "text": [
      "국가 목록 : ['Korea', 'China', 'Russia', 'Malyasia']\n",
      "추가 후 국가 목록 : ['Korea', 'China', 'Russia', 'Malyasia', 'Nepal']\n",
      "Japan 는(은) 국가 목록에 없습니다.\n",
      "Russia 는(은) 국가 목록에 있습니다.\n"
     ]
    }
   ],
   "source": [
    "nations = ['Korea', 'China', 'Russia', 'Malyasia']\n",
    "print(f\"국가 목록 : {nations}\")\n",
    "\n",
    "nations.append(\"Nepal\")\n",
    "print(f\"추가 후 국가 목록 : {nations}\")\n",
    "\n",
    "japan = 'Japan' in nations\n",
    "russia = 'Russia' in nations\n",
    "\n",
    "if japan:\n",
    "    print(\"Japan 는(은) 국가 목록에 있습니다.\")\n",
    "else:\n",
    "    print(\"Japan 는(은) 국가 목록에 없습니다.\")\n",
    "if russia:\n",
    "    print(\"Russia 는(은) 국가 목록에 있습니다.\")\n",
    "else:\n",
    "    print(\"Russia 는(은) 국가 목록에 없습니다.\")"
   ]
  },
  {
   "cell_type": "markdown",
   "id": "d6fc08f9",
   "metadata": {},
   "source": [
    "### LAB 5-4 : 리스트의 min()과 max(), sum(), len() 함수"
   ]
  },
  {
   "cell_type": "markdown",
   "id": "bc9b720a",
   "metadata": {},
   "source": [
    "> 1. 1부터 10까지의 수 중에서 소수 원소를 가지는 prime_list라는 리스트를 생성하고 이들 중 최솟값, 최댓값을 다음과 같이 출력하시오. min()과 max(), sum(), len() 내장함수를 사용하여 다음과 같이 출력하시오."
   ]
  },
  {
   "cell_type": "code",
   "execution_count": 10,
   "id": "cf3c3430",
   "metadata": {},
   "outputs": [
    {
     "name": "stdout",
     "output_type": "stream",
     "text": [
      "최솟값 : 2\n",
      "최댓값 : 7\n",
      "합계 : 17\n",
      "평균 : 4.25\n"
     ]
    }
   ],
   "source": [
    "prime_list = [2, 3, 5, 7]\n",
    "print(\"최솟값 :\",min(prime_list))\n",
    "print(\"최댓값 :\",max(prime_list))\n",
    "print(\"합계 :\",sum(prime_list))\n",
    "print(\"평균 :\",sum(prime_list) / len(prime_list))"
   ]
  },
  {
   "cell_type": "markdown",
   "id": "c40ef544",
   "metadata": {},
   "source": [
    "> 2. 'Korea', 'China', 'Russia', 'Malaysia' 원소를 가지는 nations라는 리스트가 있다. 이들 나라 중에서 사전 순서로 가장 먼저 나오는 나라와 가장 뒤에 나오는 나라를 다음과 같이 출력하시오."
   ]
  },
  {
   "cell_type": "code",
   "execution_count": 11,
   "id": "546a8004",
   "metadata": {},
   "outputs": [
    {
     "name": "stdout",
     "output_type": "stream",
     "text": [
      "사전에 가장 먼저 나오는 나라 : China\n",
      "사전에 가장 뒤에 나오는 나라 : Russia\n"
     ]
    }
   ],
   "source": [
    "nations = ['Korea', 'China', 'Russia', 'Malaysia']\n",
    "print(\"사전에 가장 먼저 나오는 나라 :\", min(nations))\n",
    "print(\"사전에 가장 뒤에 나오는 나라 :\", max(nations))"
   ]
  },
  {
   "cell_type": "markdown",
   "id": "f6ee4995",
   "metadata": {},
   "source": [
    "### LAB 5-5 : 리스트 메소드의 응용"
   ]
  },
  {
   "cell_type": "markdown",
   "id": "bf696876",
   "metadata": {},
   "source": [
    "> 1. a 리스트의 원소 값이 [1, 2, 3]이고 b 리스트의 원소 값이 [10, 20, 30]이다. a 리스트에 append(b) 메소드와 extend(b) 메소드를 각각 호출할 때 어떤 결과가 나타날지 예측하시오. 그리고 실제로 수행한 후의 결과를 각각 적으시오."
   ]
  },
  {
   "attachments": {
    "image.png": {
     "image/png": "[encoded data removed]"
    }
   },
   "cell_type": "markdown",
   "id": "16c7dfdf",
   "metadata": {},
   "source": [
    "예측 : ![image.png](attachment:image.png)"
   ]
  },
  {
   "cell_type": "code",
   "execution_count": 12,
   "id": "20c8a8e1",
   "metadata": {},
   "outputs": [
    {
     "name": "stdout",
     "output_type": "stream",
     "text": [
      "[1, 2, 3, [10, 20, 30]]\n"
     ]
    }
   ],
   "source": [
    "a = [1, 2, 3]\n",
    "b = [10, 20, 30]\n",
    "a.append(b)\n",
    "print(a)"
   ]
  },
  {
   "attachments": {
    "image.png": {
     "image/png": "[encoded data removed]"
    }
   },
   "cell_type": "markdown",
   "id": "7e1aef45",
   "metadata": {},
   "source": [
    "예측 : ![image.png](attachment:image.png)"
   ]
  },
  {
   "cell_type": "code",
   "execution_count": 13,
   "id": "d7c6f676",
   "metadata": {},
   "outputs": [
    {
     "name": "stdout",
     "output_type": "stream",
     "text": [
      "[1, 2, 3, 10, 20, 30]\n"
     ]
    }
   ],
   "source": [
    "a = [1, 2, 3]\n",
    "b = [10, 20, 30]\n",
    "a.extend(b)\n",
    "print(a)"
   ]
  },
  {
   "cell_type": "markdown",
   "id": "bb2566b6",
   "metadata": {},
   "source": [
    "> 2. 1부터 10까지의 정수 값을 원소로 가지는 nlist를 생성하여 다음과 같이 출력하여라."
   ]
  },
  {
   "cell_type": "code",
   "execution_count": 18,
   "id": "84c13918",
   "metadata": {},
   "outputs": [
    {
     "name": "stdout",
     "output_type": "stream",
     "text": [
      "nlist =  [1, 2, 3, 4, 5, 6, 7, 8, 9, 10]\n"
     ]
    }
   ],
   "source": [
    "nlist = list(range(1,11))\n",
    "print(\"nlist = \", nlist)"
   ]
  },
  {
   "cell_type": "markdown",
   "id": "de57aeea",
   "metadata": {},
   "source": [
    "> 3. insert() 메소드를 사용하여 nlist의 제일 앞에  0을 삽입하여 다음과 같이 출력하여라."
   ]
  },
  {
   "cell_type": "code",
   "execution_count": 19,
   "id": "d780ef0f",
   "metadata": {},
   "outputs": [
    {
     "name": "stdout",
     "output_type": "stream",
     "text": [
      "nlist =  [0, 1, 2, 3, 4, 5, 6, 7, 8, 9, 10]\n"
     ]
    }
   ],
   "source": [
    "nlist = list(range(1,11))\n",
    "nlist.insert(0, 0)\n",
    "print(\"nlist = \", nlist)"
   ]
  },
  {
   "cell_type": "markdown",
   "id": "9bb6e39b",
   "metadata": {},
   "source": [
    "> 4. 위의 3번 문제를 통해 만들어진 nlist를 역순으로 다시 배열하여 다음과 같이 출력하여라(reverse() 메소드 사용할 것)"
   ]
  },
  {
   "cell_type": "code",
   "execution_count": 20,
   "id": "5b9faa25",
   "metadata": {},
   "outputs": [
    {
     "name": "stdout",
     "output_type": "stream",
     "text": [
      "nlist =  [10, 9, 8, 7, 6, 5, 4, 3, 2, 1, 0]\n"
     ]
    }
   ],
   "source": [
    "nlist = list(range(1,11))\n",
    "nlist.insert(0, 0)\n",
    "nlist.reverse()\n",
    "print(\"nlist = \", nlist)"
   ]
  },
  {
   "cell_type": "markdown",
   "id": "499630a1",
   "metadata": {},
   "source": [
    "> 5. nlist의 제일 마지막 원소를 pop() 메소드를 사용하여 반환하여 출력하고 삭제한 후의 nlist를 다음과 같이 출력하여라."
   ]
  },
  {
   "cell_type": "code",
   "execution_count": 21,
   "id": "fa104697",
   "metadata": {},
   "outputs": [
    {
     "name": "stdout",
     "output_type": "stream",
     "text": [
      "마지막 원소 = 0\n",
      "nlist =  [10, 9, 8, 7, 6, 5, 4, 3, 2, 1]\n"
     ]
    }
   ],
   "source": [
    "nlist = list(range(1,11))\n",
    "nlist.insert(0, 0)\n",
    "nlist.sort(reverse=True)\n",
    "last = nlist.pop()\n",
    "print(\"마지막 원소 =\", last)\n",
    "print(\"nlist = \", nlist)"
   ]
  },
  {
   "cell_type": "markdown",
   "id": "e08ecc44",
   "metadata": {},
   "source": [
    "### LAB 5-6 : 리스트 연산"
   ]
  },
  {
   "cell_type": "markdown",
   "id": "8b5b2242",
   "metadata": {},
   "source": [
    "> 1. 사용자로부터 정수 n을 입력받아 [1, 2, 3]이라는 원소를 가지는 리스트를 다음과 같이 지정된 정수 n만큼 반복 출력하여라."
   ]
  },
  {
   "cell_type": "code",
   "execution_count": 22,
   "id": "3d19d4cc",
   "metadata": {},
   "outputs": [
    {
     "name": "stdout",
     "output_type": "stream",
     "text": [
      "반복할 정수를 입력하시오 : 3\n",
      "[1, 2, 3, 1, 2, 3, 1, 2, 3]\n"
     ]
    }
   ],
   "source": [
    "my_list = [1, 2, 3]\n",
    "cycle = int(input(\"반복할 정수를 입력하시오 : \"))\n",
    "print(my_list * cycle)"
   ]
  },
  {
   "cell_type": "code",
   "execution_count": 23,
   "id": "5014874e",
   "metadata": {},
   "outputs": [
    {
     "name": "stdout",
     "output_type": "stream",
     "text": [
      "반복할 정수를 입력하시오 : 4\n",
      "[1, 2, 3, 1, 2, 3, 1, 2, 3, 1, 2, 3]\n"
     ]
    }
   ],
   "source": [
    "my_list = [1, 2, 3]\n",
    "cycle = int(input(\"반복할 정수를 입력하시오 : \"))\n",
    "print(my_list * cycle)"
   ]
  },
  {
   "cell_type": "markdown",
   "id": "5352fbc5",
   "metadata": {},
   "source": [
    "### LAB 5-7 : 리스트의 슬라이싱"
   ]
  },
  {
   "cell_type": "markdown",
   "id": "e9e008b7",
   "metadata": {},
   "source": [
    "> 1. range(15) 함수를 사용하여 다음과 같은 리스트를 생성하여라."
   ]
  },
  {
   "cell_type": "code",
   "execution_count": 25,
   "id": "68f23f99",
   "metadata": {},
   "outputs": [
    {
     "name": "stdout",
     "output_type": "stream",
     "text": [
      "n_list =  [0, 1, 2, 3, 4, 5, 6, 7, 8, 9, 10, 11, 12, 13, 14]\n"
     ]
    }
   ],
   "source": [
    "n_list = list(range(15))\n",
    "print(\"n_list = \", n_list)"
   ]
  },
  {
   "cell_type": "markdown",
   "id": "72c49ee1",
   "metadata": {},
   "source": [
    "> 2.문제 1번의 n_list로부터 슬라이싱을 수행하여 다음과 같은 리스트를 생성하여라."
   ]
  },
  {
   "cell_type": "code",
   "execution_count": 27,
   "id": "4b71b10b",
   "metadata": {},
   "outputs": [
    {
     "name": "stdout",
     "output_type": "stream",
     "text": [
      "s_list = [0, 1, 2, 3, 4]\n",
      "s_list = [5, 6, 7, 8, 9, 10]\n",
      "s_list = [11, 12, 13, 14]\n",
      "s_list = [2, 4, 6, 8, 10]\n",
      "s_list = [10, 9, 8, 7, 6]\n",
      "s_list = [10, 8, 6, 4, 2]\n"
     ]
    }
   ],
   "source": [
    "n_list = list(range(15))\n",
    "print(\"s_list =\", n_list[:5])\n",
    "print(\"s_list =\", n_list[5:11])\n",
    "print(\"s_list =\", n_list[11:15])\n",
    "print(\"s_list =\", n_list[2:11:2])\n",
    "print(\"s_list =\", n_list[10:5:-1])\n",
    "print(\"s_list =\", n_list[10:1:-2])"
   ]
  },
  {
   "cell_type": "code",
   "execution_count": null,
   "id": "74898a78",
   "metadata": {},
   "outputs": [],
   "source": []
  }
 ],
 "metadata": {
  "kernelspec": {
   "display_name": "Python 3 (ipykernel)",
   "language": "python",
   "name": "python3"
  },
  "language_info": {
   "codemirror_mode": {
    "name": "ipython",
    "version": 3
   },
   "file_extension": ".py",
   "mimetype": "text/x-python",
   "name": "python",
   "nbconvert_exporter": "python",
   "pygments_lexer": "ipython3",
   "version": "3.9.12"
  }
 },
 "nbformat": 4,
 "nbformat_minor": 5
}
