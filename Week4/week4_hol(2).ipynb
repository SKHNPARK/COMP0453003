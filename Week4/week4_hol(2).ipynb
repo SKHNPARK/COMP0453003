{
 "cells": [
  {
   "cell_type": "markdown",
   "id": "e8e78fd2",
   "metadata": {},
   "source": [
    "# Week4 - HOL (2020110973_박석현)"
   ]
  },
  {
   "cell_type": "markdown",
   "id": "79fd12c7",
   "metadata": {},
   "source": [
    "### LAB 6-1 : 딕셔너리의 생성\n",
    "> 1. 다음과 같은 문자열 키-값의 항목을 가지는 capital_dic 딕셔너리를 생성하시오. 그리고 이 capital_dic을 이용하여 다음의 딕셔너리 항목에 대한 조회 결과를 적으시오."
   ]
  },
  {
   "cell_type": "code",
   "execution_count": 1,
   "id": "4b1afcca",
   "metadata": {},
   "outputs": [
    {
     "name": "stdout",
     "output_type": "stream",
     "text": [
      "Seoul\n",
      "Beijing\n",
      "Washington DC\n"
     ]
    }
   ],
   "source": [
    "capital_dic = {'Korea' : 'Seoul', 'China' : 'Beijing', 'USA' : 'Washington DC'}\n",
    "print(capital_dic['Korea'])\n",
    "print(capital_dic['China'])\n",
    "print(capital_dic['USA'])"
   ]
  },
  {
   "cell_type": "markdown",
   "id": "e7613eb7",
   "metadata": {},
   "source": [
    "> 2. 다음 키-값의 항목을 요소로 가지는 fruits_dic 딕셔너리를 생성하시오. 그리고 이 딕셔너리를 이용하여 각 과일을 다음과 같이 출력하여라."
   ]
  },
  {
   "cell_type": "code",
   "execution_count": 2,
   "id": "bc1a15f2",
   "metadata": {},
   "outputs": [
    {
     "name": "stdout",
     "output_type": "stream",
     "text": [
      "apple의 가격은 4000원입니다.\n",
      "banana의 가격은 5000원입니다.\n",
      "grape의 가격은 5300원입니다.\n",
      "melon의 가격은 6500원입니다.\n"
     ]
    }
   ],
   "source": [
    "fruits_dic = {'apple' : 5000, 'banana' : 4000, 'grape' : 5300, 'melon' : 6500}\n",
    "print(\"apple의 가격은 %d원입니다.\" %fruits_dic['banana'])\n",
    "print(\"banana의 가격은 %d원입니다.\" %fruits_dic['apple'])\n",
    "print(\"grape의 가격은 %d원입니다.\" %fruits_dic['grape'])\n",
    "print(\"melon의 가격은 %d원입니다.\" %fruits_dic['melon'])"
   ]
  },
  {
   "cell_type": "markdown",
   "id": "87738cb5",
   "metadata": {},
   "source": [
    "### LAB 6-2 : 딕셔너리의 항목 추가와 삭제"
   ]
  },
  {
   "cell_type": "markdown",
   "id": "0836bae2",
   "metadata": {},
   "source": [
    "> 1. person 딕셔너리에 다음과 같이 '특기' 키와, '분신술' 값을 가지는 새로운 항목을 추가하시오."
   ]
  },
  {
   "cell_type": "code",
   "execution_count": 3,
   "id": "31f3435e",
   "metadata": {},
   "outputs": [
    {
     "name": "stdout",
     "output_type": "stream",
     "text": [
      "{'이름': '홍길동', '나이': 26, '몸무게': 82, '특기': '분신술'}\n"
     ]
    }
   ],
   "source": [
    "person = {'이름' : '홍길동', '나이' : 26, '몸무게' : 82 }\n",
    "person['특기'] = '분신술'\n",
    "print(person)"
   ]
  },
  {
   "cell_type": "markdown",
   "id": "b585be35",
   "metadata": {},
   "source": [
    "> 2. person 딕셔너리에 다음과 같이 '아버지' 키와, '홍판서' 값을 가지는 새로운 항목을 추가하시오."
   ]
  },
  {
   "cell_type": "code",
   "execution_count": 4,
   "id": "5c5ec23e",
   "metadata": {},
   "outputs": [
    {
     "name": "stdout",
     "output_type": "stream",
     "text": [
      "{'이름': '홍길동', '나이': 26, '몸무게': 82, '특기': '분신술', '아버지': '홍판서'}\n"
     ]
    }
   ],
   "source": [
    "person = {'이름' : '홍길동', '나이' : 26, '몸무게' : 82 }\n",
    "person['특기'] = '분신술'\n",
    "person['아버지'] = '홍판서'\n",
    "print(person)"
   ]
  },
  {
   "cell_type": "markdown",
   "id": "b7803298",
   "metadata": {},
   "source": [
    "> 3. 2번 문제의 person 딕셔너리에 대해 '나이'를 키로 가지는 항목을 삭제하여 다음과 같은 딕셔너리로 갱신하시오."
   ]
  },
  {
   "cell_type": "code",
   "execution_count": 5,
   "id": "49153be4",
   "metadata": {},
   "outputs": [
    {
     "name": "stdout",
     "output_type": "stream",
     "text": [
      "{'이름': '홍길동', '몸무게': 82, '특기': '분신술', '아버지': '홍판서'}\n"
     ]
    }
   ],
   "source": [
    "person = {'이름' : '홍길동', '나이' : 26, '몸무게' : 82 }\n",
    "person['특기'] = '분신술'\n",
    "person['아버지'] = '홍판서'\n",
    "del person['나이']\n",
    "print(person)"
   ]
  },
  {
   "cell_type": "markdown",
   "id": "4c039d5d",
   "metadata": {},
   "source": [
    "### LAB 6-3 : 딕셔너리와 연산"
   ]
  },
  {
   "cell_type": "markdown",
   "id": "55ccfd1c",
   "metadata": {},
   "source": [
    "> 1. 다음과 같은 키-값을 가지는 capital_dic이라는 딕셔너리를 생성한 후 아래 연산을 수행하고 출력 결과를 True 혹은 False로 적으시오."
   ]
  },
  {
   "cell_type": "code",
   "execution_count": 6,
   "id": "2970c2ca",
   "metadata": {},
   "outputs": [
    {
     "name": "stdout",
     "output_type": "stream",
     "text": [
      "True\n",
      "True\n",
      "False\n",
      "False\n"
     ]
    }
   ],
   "source": [
    "capital_dic = {'Korea' : 'Seoul', 'China' : 'Beijing', 'USA' : 'Washington DC'}\n",
    "print('Korea' in capital_dic)\n",
    "print('China' in capital_dic)\n",
    "print('Indonesia' in capital_dic)\n",
    "print('Beijing' in capital_dic)"
   ]
  },
  {
   "cell_type": "markdown",
   "id": "8cc4b672",
   "metadata": {},
   "source": [
    "### LAB 6-4 : 딕셔너리의 활용"
   ]
  },
  {
   "cell_type": "markdown",
   "id": "a022d209",
   "metadata": {},
   "source": [
    "> 1. apple, melon, banana, orange라는 문자열로 된 키와 각각 6000, 3000, 5000, 7000원의 가격을 값으로 가지는 fruits_dic이라는 이름의 딕셔너리를 생성하자.\n",
    "> 2. fruits_dic 딕셔너리의 모든 키를 keys() 메소드를 사용하여 출력하시오.\n",
    "> 3. fruits_dic 딕셔너리의 모든 값을 values() 메소드를 사용하여 출력하시오.\n",
    "> 4. fruits_dic 딕셔너리의 ('apple', 6000) 항목을 pop() 메소드를 이용하여 삭제하시오.\n",
    "> 5. fruits_dic 딕셔너리의 모든 항목을 삭제하시오."
   ]
  },
  {
   "cell_type": "code",
   "execution_count": 8,
   "id": "f6daaaf7",
   "metadata": {},
   "outputs": [
    {
     "name": "stdout",
     "output_type": "stream",
     "text": [
      "dict_keys(['apple', 'banana', 'grape', 'melon'])\n",
      "dict_values([6000, 3000, 5000, 7000])\n",
      "6000\n",
      "None\n"
     ]
    }
   ],
   "source": [
    "fruits_dic = {'apple' : 6000, 'banana' : 3000, 'grape' : 5000, 'melon' : 7000}\n",
    "print(fruits_dic.keys())\n",
    "print(fruits_dic.values())\n",
    "print(fruits_dic.pop('apple'))\n",
    "print(fruits_dic.clear())"
   ]
  },
  {
   "cell_type": "markdown",
   "id": "a418160e",
   "metadata": {},
   "source": [
    "### LAB 6-5 : 딕셔너리의 활용"
   ]
  },
  {
   "cell_type": "markdown",
   "id": "7bffe9fe",
   "metadata": {},
   "source": [
    "> 1. ('apple', 6000), ('melon', 3000), ('banana', 5000), ('orange', 4000)라는 키와 값의 쌍으로 이루어진 fruits_dic이라는 이름의 딕셔너리를 생성하자. 이제 fruits_dic 딕셔너리의 모든 키를 리스트 형식으로 출력하시오."
   ]
  },
  {
   "cell_type": "code",
   "execution_count": 12,
   "id": "ee9c1fa1",
   "metadata": {},
   "outputs": [
    {
     "name": "stdout",
     "output_type": "stream",
     "text": [
      "['apple', 'banana', 'grape', 'melon']\n"
     ]
    }
   ],
   "source": [
    "fruits_dic = {'apple' : 6000, 'banana' : 3000, 'grape' : 5000, 'melon' : 4000}\n",
    "print(list(fruits_dic))"
   ]
  },
  {
   "cell_type": "markdown",
   "id": "9b568db2",
   "metadata": {},
   "source": [
    "> 2. fruits_dic 딕셔너리의 모든 값을 리스트 형식으로 추력하시오(힌트 : values() 메소드로 값을 구한 후 list() 함수를 사용하시오)."
   ]
  },
  {
   "cell_type": "code",
   "execution_count": 13,
   "id": "681cb27d",
   "metadata": {},
   "outputs": [
    {
     "name": "stdout",
     "output_type": "stream",
     "text": [
      "[6000, 3000, 5000, 4000]\n"
     ]
    }
   ],
   "source": [
    "fruits_dic = {'apple' : 6000, 'banana' : 3000, 'grape' : 5000, 'melon' : 4000}\n",
    "print(list(fruits_dic.values()))"
   ]
  },
  {
   "cell_type": "markdown",
   "id": "6b773ad1",
   "metadata": {},
   "source": [
    "> 3. fruits_dic 딕셔너리의 항목의 개수를 len() 함수를 통해서 구한 후, 다음과 같이 출력하시오."
   ]
  },
  {
   "cell_type": "markdown",
   "id": "d65abcd8",
   "metadata": {},
   "source": [
    "fruits_dic = {'apple' : 6000, 'banana' : 3000, 'grape' : 5000, 'melon' : 4000}\n",
    "print(\"fruits_dic 딕셔너리의 항목의 개수 :\", len(fruits_dic))"
   ]
  },
  {
   "cell_type": "markdown",
   "id": "56d6679e",
   "metadata": {},
   "source": [
    "> 4. fruits_dic 딕셔너리에 'apple' 키와 'mange' 키가 있는가 검사하여 다음과 같이 출력하시오."
   ]
  },
  {
   "cell_type": "code",
   "execution_count": 14,
   "id": "56360cac",
   "metadata": {},
   "outputs": [
    {
     "name": "stdout",
     "output_type": "stream",
     "text": [
      "apple is in fruits_dic.\n",
      "mango is not in fruits_dic.\n"
     ]
    }
   ],
   "source": [
    "fruits_dic = {'apple' : 6000, 'banana' : 3000, 'grape' : 5000, 'melon' : 4000}\n",
    "apple = 'apple' in fruits_dic\n",
    "mango = 'mango' in fruits_dic\n",
    "\n",
    "if apple:\n",
    "    print('apple is in fruits_dic.')\n",
    "else:\n",
    "    print('apple is not in fruits_dic.')\n",
    "\n",
    "if mango:\n",
    "    print('mango is in fruits_dic.')\n",
    "else:\n",
    "    print('mango is not in fruits_dic.')"
   ]
  },
  {
   "cell_type": "markdown",
   "id": "fc2dc9a0",
   "metadata": {},
   "source": [
    "### LAB 6-6 : 튜플의 생성과 패킹, 언패킹"
   ]
  },
  {
   "cell_type": "markdown",
   "id": "4c91ccb3",
   "metadata": {},
   "source": [
    ">1. (1919, 3, 1)의 요소 값을 가지는 the_day 튜플을 생성하여라. 그리고 이 튜플의 요소를 언패킹을 통해 year, month, day 변수에 할당한 후 다음과 같이 출력하여라."
   ]
  },
  {
   "cell_type": "code",
   "execution_count": 15,
   "id": "d23bc171",
   "metadata": {},
   "outputs": [
    {
     "name": "stdout",
     "output_type": "stream",
     "text": [
      "1919년 3월 1일은 삼일절입니다.\n"
     ]
    }
   ],
   "source": [
    "the_day = (1919, 3, 1)\n",
    "print(f\"{the_day[0]}년 {the_day[1]}월 {the_day[2]}일은 삼일절입니다.\")"
   ]
  },
  {
   "cell_type": "markdown",
   "id": "ca3143b8",
   "metadata": {},
   "source": [
    "> 2. 10, 20, 30의 순서대로 이루어진 리스트를 튜플로 변환하여 a, b, c에 언패킹한 후 이를 다음과 같이 출력하여라."
   ]
  },
  {
   "cell_type": "code",
   "execution_count": 16,
   "id": "cc8c08f4",
   "metadata": {},
   "outputs": [
    {
     "name": "stdout",
     "output_type": "stream",
     "text": [
      "a = 10\n",
      "a = 20\n",
      "a = 30\n"
     ]
    }
   ],
   "source": [
    "_list = [10, 20, 30]\n",
    "_tuple = tuple(_list)\n",
    "a, b, c = _tuple\n",
    "print(\"a = %d\" %a)\n",
    "print(\"a = %d\" %b)\n",
    "print(\"a = %d\" %c)"
   ]
  },
  {
   "cell_type": "markdown",
   "id": "d56ecca6",
   "metadata": {},
   "source": [
    "### LAB 6-7 : 튜플의 활용"
   ]
  },
  {
   "cell_type": "markdown",
   "id": "a5b91c54",
   "metadata": {},
   "source": [
    "> 1. 20190001이라는 학번과 '홍길동'이라는 이름, 179라는 키를 튜플의 요소로 가지는 튜플 객체와 참조 변수 person을 생성하여라."
   ]
  },
  {
   "cell_type": "code",
   "execution_count": 17,
   "id": "1d092577",
   "metadata": {},
   "outputs": [
    {
     "name": "stdout",
     "output_type": "stream",
     "text": [
      "('홍길동', 2019001, 179)\n"
     ]
    }
   ],
   "source": [
    "person = ('홍길동', 2019001, 179)\n",
    "print(person)"
   ]
  },
  {
   "cell_type": "markdown",
   "id": "9935eb9b",
   "metadata": {},
   "source": [
    "> 2. person의 학번을 2019003으로 변경하여라. 어떤 오류가 발생하는가?"
   ]
  },
  {
   "cell_type": "markdown",
   "id": "926607b9",
   "metadata": {},
   "source": [
    "TypeError: 'tuple' object does not support item assignment"
   ]
  },
  {
   "cell_type": "markdown",
   "id": "95847fd9",
   "metadata": {},
   "source": [
    "> 3. person을 리스트로 변환하여 학번을 2020003으로 변경한 후 이를 다시 튜플로 변환하여 다음과 같이 출력하여라."
   ]
  },
  {
   "cell_type": "code",
   "execution_count": 18,
   "id": "f45c251d",
   "metadata": {},
   "outputs": [
    {
     "name": "stdout",
     "output_type": "stream",
     "text": [
      "('홍길동', 2020003, 179)\n"
     ]
    }
   ],
   "source": [
    "personT = ('홍길동', 2019001, 179)\n",
    "personL = list(personT)\n",
    "personL[1] = 2020003\n",
    "personT = tuple(personL)\n",
    "print(personT)"
   ]
  },
  {
   "cell_type": "markdown",
   "id": "95977f4a",
   "metadata": {},
   "source": [
    "### LAB 6-9 : 집합의 생성"
   ]
  },
  {
   "cell_type": "markdown",
   "id": "7fc42ece",
   "metadata": {},
   "source": [
    "> 1. 다음 리스트 lst로 부터 set() 함수를 사용하여 집합 s1을 생성하여 출력하시오."
   ]
  },
  {
   "cell_type": "code",
   "execution_count": 19,
   "id": "70245e04",
   "metadata": {},
   "outputs": [
    {
     "name": "stdout",
     "output_type": "stream",
     "text": [
      "{'mango', 'apple', 'banana'}\n"
     ]
    }
   ],
   "source": [
    "lst = ['apple', 'mango', 'banana']\n",
    "s1 = set(lst)\n",
    "print(s1)"
   ]
  },
  {
   "cell_type": "markdown",
   "id": "9c7e2ef0",
   "metadata": {},
   "source": [
    "> 2. 다음 문자열 great으로부터 set() 함수를 사용하여 집합 s2를 생성하여 출력하시오."
   ]
  },
  {
   "cell_type": "code",
   "execution_count": 20,
   "id": "45b0a35a",
   "metadata": {},
   "outputs": [
    {
     "name": "stdout",
     "output_type": "stream",
     "text": [
      "{'o', 'a', 'r', 'd', 'f', 'n', 't', 'e', 'G', ' '}\n"
     ]
    }
   ],
   "source": [
    "great = 'Good afternoon'\n",
    "s2 = set(great)\n",
    "print(s2)"
   ]
  },
  {
   "cell_type": "markdown",
   "id": "9e924855",
   "metadata": {},
   "source": [
    "### LAB 6-10 : 집합의 연산"
   ]
  },
  {
   "cell_type": "markdown",
   "id": "5fa3d476",
   "metadata": {},
   "source": [
    "> 1.다음 두 집합이 있을 경우 이 집합에 대한 연산결과는 무엇인가?"
   ]
  },
  {
   "cell_type": "code",
   "execution_count": 21,
   "id": "07e53eb8",
   "metadata": {},
   "outputs": [
    {
     "name": "stdout",
     "output_type": "stream",
     "text": [
      "1)  {70, 40, 10, 50, 20, 60, 30}\n",
      "2)  {40, 30}\n",
      "3)  {10, 20}\n",
      "4)  {50, 20, 70, 10, 60}\n",
      "5)  False\n",
      "6)  False\n",
      "7)  False\n"
     ]
    }
   ],
   "source": [
    "s1 = {10, 20, 30, 40}\n",
    "s2 = {30, 40, 50, 60, 70}\n",
    "print(\"1) \", s1 | s2)\n",
    "print(\"2) \", s1 & s2)\n",
    "print(\"3) \", s1 - s2)\n",
    "print(\"4) \", s1 ^ s2)\n",
    "print(\"5) \", s1.issubset(s2))\n",
    "print(\"6) \", s1.issuperset(s2))\n",
    "print(\"7) \", s1.isdisjoint(s2))"
   ]
  }
 ],
 "metadata": {
  "kernelspec": {
   "display_name": "Python 3 (ipykernel)",
   "language": "python",
   "name": "python3"
  },
  "language_info": {
   "codemirror_mode": {
    "name": "ipython",
    "version": 3
   },
   "file_extension": ".py",
   "mimetype": "text/x-python",
   "name": "python",
   "nbconvert_exporter": "python",
   "pygments_lexer": "ipython3",
   "version": "3.10.7"
  }
 },
 "nbformat": 4,
 "nbformat_minor": 5
}
